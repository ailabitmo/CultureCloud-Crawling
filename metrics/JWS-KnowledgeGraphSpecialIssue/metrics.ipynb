{
 "worksheets": [
  {
   "cells": [
    {
     "cell_type": "heading",
     "metadata": {},
     "level": 1,
     "source": [
      "Init"
     ]
    },
    {
     "cell_type": "code",
     "metadata": {},
     "outputs": [],
     "input": [
      "import json\n",
      "from SPARQLWrapper import SPARQLWrapper, JSON\n",
      "import numpy as np\n",
      "import pandas as pd\n",
      "% matplotlib inline\n",
      "import matplotlib as mpl\n",
      "import matplotlib.pyplot as plt\n",
      "import seaborn as sns\n",
      "import rdflib\n",
      "from os import listdir\n",
      "from bfs_sparql import get_hist_for_uri\n",
      "sns.set_palette(\"deep\", desat=.6)\n",
      "sns.set_context(rc={\"figure.figsize\": (8, 4)})\n",
      "\n",
      "sparql = SPARQLWrapper('http://localhost:9999/bigdata/sparql')\n",
      "sparql.setReturnFormat(JSON)\n",
      "\n",
      "# Only crawled ang generated data\n",
      "sparql_raw = SPARQLWrapper('http://localhost:9999/bigdata/namespace/raw/sparql')\n",
      "sparql_raw.setReturnFormat(JSON)\n",
      "\n",
      "# Endpoint with Wikidata\n",
      "sparql_wd = SPARQLWrapper('http://wikidata.metaphacts.com:8080/bigdata/sparql')\n",
      "sparql_wd.setReturnFormat(JSON)\n",
      "\n",
      "result_data = {\n",
      "    'authos': [],\n",
      "    'hist_rmgallery': {},\n",
      "    'hist_dbp': {},\n",
      "    'hist_wikidata': {},\n",
      "    'general_dataset_metrics': {},\n",
      "    'original_dataset_metrics': {},\n",
      "    'interlinking_metrics': {},\n",
      "}"
     ],
     "language": "python",
     "prompt_number": 25
    },
    {
     "cell_type": "heading",
     "metadata": {},
     "level": 1,
     "source": [
      "General dataset metrics"
     ]
    },
    {
     "cell_type": "code",
     "metadata": {},
     "outputs": [],
     "input": [
      "result_data['general_dataset_metrics'] = {}\n",
      "query_general_dataset_metrics = {\n",
      "    'Triples': 'SELECT (COUNT(*) AS ?no) { ?s ?p ?o }',\n",
      "    'Classes': 'SELECT (COUNT(distinct ?o) AS ?no) { ?s rdf:type ?o }',\n",
      "    'Properties': 'SELECT (COUNT(distinct ?p) as ?no) { ?s ?p ?o }',\n",
      "    'Entities': 'SELECT (COUNT(distinct ?s) AS ?no) { ?s a [] }',\n",
      "    'Distinct subjects': 'SELECT (COUNT(DISTINCT ?s ) AS ?no) { ?s ?p ?o }',\n",
      "    'Distinct objects': 'SELECT (COUNT(DISTINCT ?o ) AS ?no) { ?s ?p ?o  filter(!isLiteral(?o)) }',\n",
      "\n",
      "    'Crawled artworks': 'SELECT (COUNT(DISTINCT ?s ) AS ?no) {'\n",
      "                        '?s a <http://erlangen-crm.org/current/E22_Man-Made_Object> }',\n",
      "    'Crawled authors': 'SELECT (COUNT(DISTINCT ?s ) AS ?no) {'\n",
      "                       '?s a <http://erlangen-crm.org/current/E21_Person> }',\n",
      "}\n",
      "for metric, query in query_general_dataset_metrics.iteritems():\n",
      "    sparql_raw.setQuery(query)\n",
      "    res = sparql_raw.query().convert()\n",
      "    result_data['general_dataset_metrics'][metric] = int(res['results']['bindings'][0]['no']['value'])"
     ],
     "language": "python",
     "prompt_number": 21
    },
    {
     "cell_type": "heading",
     "metadata": {},
     "level": 1,
     "source": [
      "Original dataset metrics"
     ]
    },
    {
     "cell_type": "code",
     "metadata": {},
     "outputs": [],
     "input": [
      "result_data['original_dataset_metrics'] = {}\n",
      "query_original_dataset_metrics = {\n",
      "    'Artwork descriptions': \"\"\"PREFIX ecrm: <http://erlangen-crm.org/current/>\n",
      "                                SELECT (COUNT(DISTINCT ?s) as ?no) {\n",
      "                                  ?s a ecrm:E22_Man-Made_Object ;\n",
      "                                     ecrm:P3_has_note []\n",
      "                                }\"\"\",\n",
      "    'Artwork dimension': \"\"\"PREFIX ecrm: <http://erlangen-crm.org/current/>\n",
      "                            SELECT (COUNT(DISTINCT ?s) as ?no) {\n",
      "                                ?s a ecrm:E22_Man-Made_Object ;\n",
      "                                   ecrm:P43_has_dimension []\n",
      "                            }\"\"\",\n",
      "    'Artwork genre': \"\"\"PREFIX ecrm: <http://erlangen-crm.org/current/>\n",
      "                        SELECT (COUNT(DISTINCT ?s) as ?no) {\n",
      "                            ?s a ecrm:E22_Man-Made_Object ;\n",
      "                               ecrm:P2_has_type []\n",
      "                        }\"\"\",\n",
      "    'Artwork creation time': \"\"\"PREFIX ecrm: <http://erlangen-crm.org/current/>\n",
      "                                SELECT (COUNT(DISTINCT ?s) as ?no) {\n",
      "                                    ?s a ecrm:E12_Production ;\n",
      "                                       ecrm:P4_has_time-span []\n",
      "                                }\"\"\",\n",
      "    \"Author's bio\": \"\"\"PREFIX ecrm: <http://erlangen-crm.org/current/>\n",
      "                        SELECT (COUNT(DISTINCT ?s) as ?no) {\n",
      "                            ?s a ecrm:E21_Person ;\n",
      "                               ecrm:P3_has_note []\n",
      "                        }\"\"\",\n",
      "}\n",
      "for metric, query in query_original_dataset_metrics.iteritems():\n",
      "    sparql_raw.setQuery(query)\n",
      "    res = sparql_raw.query().convert()\n",
      "    result_data['original_dataset_metrics'][metric] = int(res['results']['bindings'][0]['no']['value'])"
     ],
     "language": "python",
     "prompt_number": 20
    },
    {
     "cell_type": "heading",
     "metadata": {},
     "level": 1,
     "source": [
      "Interlinking metrics"
     ]
    },
    {
     "cell_type": "code",
     "metadata": {},
     "outputs": [],
     "input": [
      "result_data['interlinking_metrics'] = {}\n",
      "query_interlinking_metrics = {\n",
      "    'Number of interlinked authors [Total]':\n",
      "        \"\"\"PREFIX ecrm: <http://erlangen-crm.org/current/>\n",
      "             SELECT (COUNT(DISTINCT ?s) as ?no) {\n",
      "                 ?s a ecrm:E21_Person ;\n",
      "                    owl:sameAs []\n",
      "             }\"\"\",\n",
      "    'Number of interlinked authors [Ru-DBpedia]':\n",
      "        \"\"\"PREFIX ecrm: <http://erlangen-crm.org/current/>\n",
      "             SELECT (COUNT(DISTINCT ?s) as ?no) {\n",
      "                 ?s a ecrm:E21_Person ;\n",
      "                    owl:sameAs ?sameAs\n",
      "                 FILTER(STRSTARTS(STR(?sameAs), 'http://dbpedia'))\n",
      "             }\"\"\",\n",
      "    'Number of interlinked authors [En-DBpedia]':\n",
      "        \"\"\"PREFIX ecrm: <http://erlangen-crm.org/current/>\n",
      "             SELECT (COUNT(DISTINCT ?s) as ?no) {\n",
      "                 ?s a ecrm:E21_Person ;\n",
      "                    owl:sameAs ?sameAs\n",
      "                 FILTER(STRSTARTS(STR(?sameAs), 'http://ru.dbpedia'))\n",
      "             }\"\"\",\n",
      "    'Number of interlinked authors [Wikidata]':\n",
      "        \"\"\"PREFIX ecrm: <http://erlangen-crm.org/current/>\n",
      "             SELECT (COUNT(DISTINCT ?s) as ?no) {\n",
      "                 ?s a ecrm:E21_Person ;\n",
      "                    owl:sameAs ?sameAs\n",
      "                 FILTER(STRSTARTS(STR(?sameAs), 'http://www.wikidata'))\n",
      "             }\"\"\",\n",
      "\n",
      "    ####################\n",
      "\n",
      "    'Authors enriched with birth date [DBpedia]':\n",
      "        \"\"\"PREFIX ecrm: <http://erlangen-crm.org/current/>\n",
      "             PREFIX dbpedia: <http://dbpedia.org/ontology/>\n",
      "             SELECT (COUNT(DISTINCT ?s) as ?no) {\n",
      "                 ?s a ecrm:E21_Person ;\n",
      "                    owl:sameAs ?sameAs .\n",
      "                 ?sameAs dbpedia:birthDate []\n",
      "             }\"\"\",\n",
      "    'Authors enriched with birth date [Wikidata]':\n",
      "        \"\"\"PREFIX ecrm: <http://erlangen-crm.org/current/>\n",
      "             PREFIX dbpedia: <http://dbpedia.org/ontology/>\n",
      "             PREFIX wd: <http://www.wikidata.org/entity/>\n",
      "             SELECT (COUNT(DISTINCT ?s) as ?no) {\n",
      "                 ?s a ecrm:E21_Person ;\n",
      "                    owl:sameAs ?sameAs .\n",
      "                 SERVICE <http://milenio.dcc.uchile.cl/sparql> {\n",
      "                    ?sameAs wd:P569c [] }\n",
      "             }\"\"\",\n",
      "    'Authors enriched with death date [DBpedia]':\n",
      "        \"\"\"PREFIX ecrm: <http://erlangen-crm.org/current/>\n",
      "             PREFIX dbpedia: <http://dbpedia.org/ontology/>\n",
      "             SELECT (COUNT(DISTINCT ?s) as ?no) {\n",
      "                 ?s a ecrm:E21_Person ;\n",
      "                    owl:sameAs ?sameAs .\n",
      "                 ?sameAs dbpedia:deathDate []\n",
      "             }\"\"\",\n",
      "    'Authors enriched with death date [Wikidata]':\n",
      "        \"\"\"PREFIX ecrm: <http://erlangen-crm.org/current/>\n",
      "             PREFIX dbpedia: <http://dbpedia.org/ontology/>\n",
      "             PREFIX wd: <http://www.wikidata.org/entity/>\n",
      "             SELECT (COUNT(DISTINCT ?s) as ?no) {\n",
      "                 ?s a ecrm:E21_Person ;\n",
      "                    owl:sameAs ?sameAs .\n",
      "                 SERVICE <http://milenio.dcc.uchile.cl/sparql> {\n",
      "                    ?sameAs wd:P570c [] }\n",
      "             }\"\"\",\n",
      "    'Authors enriched with birth place [DBpedia]':\n",
      "        \"\"\"PREFIX ecrm: <http://erlangen-crm.org/current/>\n",
      "             PREFIX dbpedia: <http://dbpedia.org/ontology/>\n",
      "             SELECT (COUNT(DISTINCT ?s) as ?no) {\n",
      "                 ?s a ecrm:E21_Person ;\n",
      "                    owl:sameAs ?sameAs .\n",
      "                 ?sameAs dbpedia:birthPlace []\n",
      "             }\"\"\",\n",
      "    'Authors enriched with birth place [Wikidata]':\n",
      "        \"\"\"PREFIX ecrm: <http://erlangen-crm.org/current/>\n",
      "             PREFIX dbpedia: <http://dbpedia.org/ontology/>\n",
      "             PREFIX wd: <http://www.wikidata.org/entity/>\n",
      "             SELECT (COUNT(DISTINCT ?s) as ?no) {\n",
      "                 ?s a ecrm:E21_Person ;\n",
      "                    owl:sameAs ?sameAs .\n",
      "                 SERVICE <http://milenio.dcc.uchile.cl/sparql> {\n",
      "                    ?sameAs wd:P19c [] }\n",
      "             }\"\"\",\n",
      "    'Authors enriched with death place [DBpedia]':\n",
      "        \"\"\"PREFIX ecrm: <http://erlangen-crm.org/current/>\n",
      "             PREFIX dbpedia: <http://dbpedia.org/ontology/>\n",
      "             SELECT (COUNT(DISTINCT ?s) as ?no) {\n",
      "                 ?s a ecrm:E21_Person ;\n",
      "                    owl:sameAs ?sameAs .\n",
      "                 ?sameAs dbpedia:deathPlace []\n",
      "             }\"\"\",\n",
      "    'Authors enriched with death place [Wikidata]':\n",
      "        \"\"\"PREFIX ecrm: <http://erlangen-crm.org/current/>\n",
      "             PREFIX dbpedia: <http://dbpedia.org/ontology/>\n",
      "             PREFIX wd: <http://www.wikidata.org/entity/>\n",
      "             SELECT (COUNT(DISTINCT ?s) as ?no) {\n",
      "                 ?s a ecrm:E21_Person ;\n",
      "                    owl:sameAs ?sameAs .\n",
      "                 SERVICE <http://milenio.dcc.uchile.cl/sparql> {\n",
      "                    ?sameAs wd:P20c [] }\n",
      "             }\"\"\",\n",
      "    'Authors enriched with art movement [DBpedia]':\n",
      "        \"\"\"PREFIX ecrm: <http://erlangen-crm.org/current/>\n",
      "             PREFIX dbpedia: <http://dbpedia.org/ontology/>\n",
      "             SELECT (COUNT(DISTINCT ?s) as ?no) {\n",
      "                 ?s a ecrm:E21_Person ;\n",
      "                    owl:sameAs ?sameAs .\n",
      "                 ?sameAs dbpedia:movement []\n",
      "             }\"\"\",\n",
      "    'Authors enriched with art movement [Wikidata]':\n",
      "        \"\"\"PREFIX ecrm: <http://erlangen-crm.org/current/>\n",
      "             PREFIX dbpedia: <http://dbpedia.org/ontology/>\n",
      "             PREFIX wd: <http://www.wikidata.org/entity/>\n",
      "             SELECT (COUNT(DISTINCT ?s) as ?no) {\n",
      "                 ?s a ecrm:E21_Person ;\n",
      "                    owl:sameAs ?sameAs .\n",
      "                 SERVICE <http://milenio.dcc.uchile.cl/sparql> {\n",
      "                    ?sameAs wd:P135c [] }\n",
      "             }\"\"\",\n",
      "    'Authors enriched with <influenced> [DBpedia]':\n",
      "        \"\"\"PREFIX ecrm: <http://erlangen-crm.org/current/>\n",
      "             PREFIX dbpedia: <http://dbpedia.org/ontology/>\n",
      "             SELECT (COUNT(DISTINCT ?s) as ?no) {\n",
      "                 ?s a ecrm:E21_Person ;\n",
      "                    owl:sameAs ?sameAs .\n",
      "                 ?sameAs dbpedia:influenced []\n",
      "             }\"\"\",\n",
      "    'Authors enriched with <influenced> [Wikidata]':\n",
      "        \"\"\"PREFIX ecrm: <http://erlangen-crm.org/current/>\n",
      "             PREFIX dbpedia: <http://dbpedia.org/ontology/>\n",
      "             PREFIX wd: <http://www.wikidata.org/entity/>\n",
      "             SELECT (COUNT(DISTINCT ?s) as ?no) {\n",
      "                 ?s a ecrm:E21_Person ;\n",
      "                    owl:sameAs ?sameAs .\n",
      "                 SERVICE <http://milenio.dcc.uchile.cl/sparql> {\n",
      "                    ?sameAs wd:P738c [] }\n",
      "             }\"\"\",\n",
      "    'Authors enriched with <influenced by> [DBpedia]':\n",
      "        \"\"\"PREFIX ecrm: <http://erlangen-crm.org/current/>\n",
      "             PREFIX dbpedia: <http://dbpedia.org/ontology/>\n",
      "             SELECT (COUNT(DISTINCT ?s) as ?no) {\n",
      "                 ?s a ecrm:E21_Person ;\n",
      "                    owl:sameAs ?sameAs .\n",
      "                 ?sameAs dbpedia:influencedBy []\n",
      "             }\"\"\",\n",
      "    'Authors enriched with <influenced by> [Wikidata]':\n",
      "        \"\"\"PREFIX ecrm: <http://erlangen-crm.org/current/>\n",
      "             PREFIX dbpedia: <http://dbpedia.org/ontology/>\n",
      "             PREFIX wd: <http://www.wikidata.org/entity/>\n",
      "             SELECT (COUNT(DISTINCT ?s) as ?no) {\n",
      "                 ?s a ecrm:E21_Person ;\n",
      "                    owl:sameAs ?sameAs .\n",
      "                 SERVICE <http://milenio.dcc.uchile.cl/sparql> {\n",
      "                    ?sameAs wd:P737c [] }\n",
      "             }\"\"\",\n",
      "}\n",
      "\n",
      "for metric, query in query_interlinking_metrics.iteritems():\n",
      "    sparql.setQuery(query)\n",
      "    res = sparql.query().convert()\n",
      "    result_data['interlinking_metrics'][metric] = int(res['results']['bindings'][0]['no']['value'])"
     ],
     "language": "python",
     "prompt_number": 19
    },
    {
     "cell_type": "heading",
     "metadata": {},
     "level": 1,
     "source": [
      "Graph metrics"
     ]
    },
    {
     "cell_type": "heading",
     "metadata": {},
     "level": 2,
     "source": [
      "Set up\n"
     ]
    },
    {
     "cell_type": "code",
     "metadata": {},
     "outputs": [],
     "input": [
      "# Get list of authors\n",
      "sparql.setQuery(\"\"\"\n",
      "prefix ecrm: <http://erlangen-crm.org/current/>\n",
      "select distinct ?a where {\n",
      "  ?a a ecrm:E21_Person\n",
      "}\"\"\")\n",
      "result_data['authors'] = []\n",
      "for r in sparql.query().convert()['results']['bindings']:\n",
      "    result_data['authors'].append(r['a']['value'])\n",
      "\n",
      "\n",
      "# Histogram query using Blazegraph GAS API\n",
      "query_get_histo = \"\"\"\n",
      "prefix ecrm: <http://erlangen-crm.org/current/>\n",
      "PREFIX gas: <http://www.bigdata.com/rdf/gas#>\n",
      "SELECT ?depth (count(?out) as ?cnt) {{\n",
      "  SERVICE gas:service {{\n",
      "     gas:program gas:gasClass \"com.bigdata.rdf.graph.analytics.BFS\" .\n",
      "     gas:program gas:in <{}> .\n",
      "     gas:program gas:out ?out .\n",
      "     gas:program gas:out1 ?depth .\n",
      "     gas:program gas:maxIterations {} .\n",
      "  }}\n",
      "}}\n",
      "group by ?depth\n",
      "order by ?depth\n",
      "\"\"\"\n",
      "\n",
      "\n",
      "def get_hist(uri, endpoint, query, depth=4):\n",
      "    endpoint.setQuery(query.format(uri, depth))\n",
      "    bindings = endpoint.query().convert()['results']['bindings']\n",
      "    hist = []\n",
      "    for i in range(0, depth + 1):\n",
      "        if i >= len(bindings):\n",
      "            hist.append(0)\n",
      "            continue\n",
      "        hist.append(int(bindings[i]['cnt']['value']))\n",
      "    return hist\n",
      "\n",
      "\n",
      "def get_authors_hist(author_list, endpoint, depth=4):\n",
      "    hist = {}\n",
      "    for author in author_list:\n",
      "        a_id = author[39:]\n",
      "        h = get_hist(author, endpoint, query_get_histo, depth)\n",
      "        hist[a_id] = h\n",
      "    return pd.DataFrame(hist)\n",
      "\n",
      "\n",
      "# Histogram plotting function\n",
      "def plot_hist(hist, depth=4, offset=1):\n",
      "    a_hist_plot = np.expand_dims(\n",
      "        np.sort(np.copy(hist.as_matrix())[offset:depth + 1]).T, axis=0)\n",
      "    a_hist_plot_x = pd.Series(range(1, 296), name=\"Authors\")\n",
      "    levels = pd.Series([str(i) for i in range(1, depth + 1)], name='Levels')\n",
      "    sns.tsplot(a_hist_plot,\n",
      "               condition=levels,\n",
      "               value='Number of triples',\n",
      "               time=a_hist_plot_x). \\\n",
      "        set_yscale('log')"
     ],
     "language": "python",
     "prompt_number": 31
    },
    {
     "cell_type": "heading",
     "metadata": {},
     "level": 2,
     "source": [
      "Compute histograms"
     ]
    },
    {
     "cell_type": "code",
     "metadata": {},
     "outputs": [],
     "input": [
      "# rmgallery only histogram (GAS BFS)\n",
      "\n",
      "result_data['hist_rmgallery'] = get_authors_hist(result_data['authors'], sparql_raw, 2)"
     ],
     "language": "python",
     "prompt_number": 32
    },
    {
     "cell_type": "code",
     "metadata": {},
     "outputs": [],
     "input": [
      "# Computing Wikidata histogram (GAS BFS from rmgallery + GAS BFS on wikidata.metaphacts.com)\n",
      "\n",
      "result_data['hist_wikidata'] = result_data['hist_rmgallery'].copy()\n",
      "sparql.setQuery(\"\"\"\n",
      "prefix ecrm: <http://erlangen-crm.org/current/>\n",
      "SELECT DISTINCT ?a ?s WHERE {\n",
      "  ?a a ecrm:E21_Person ;\n",
      "     owl:sameAs ?s\n",
      "  FILTER(strStarts(str(?s), 'http://www.wikidata'))\n",
      "}\"\"\")\n",
      "for b in sparql.query().convert()['results']['bindings']:\n",
      "    a_id = b['a']['value'][39:]\n",
      "    wd_sameas = b['s']['value']\n",
      "    wd_hist = [0, 0] + get_hist(wd_sameas, sparql_wd, query_get_histo, 2)\n",
      "    result_data['hist_wikidata'][a_id] = result_data['hist_wikidata'][a_id].add(wd_hist) \n",
      "    result_data['hist_wikidata'][a_id][1] = 0"
     ],
     "language": "python",
     "prompt_number": 76
    },
    {
     "cell_type": "code",
     "metadata": {},
     "outputs": [],
     "input": [
      "# DBpedia histogram with custom BFS algorithm\n",
      "\n",
      "result_data['hist_dbp'] = {}\n",
      "for author in result_data['authors']:\n",
      "    a = author[39:]\n",
      "    hist = get_hist_for_uri(sparql, author, search_external=True)\n",
      "    result_data['hist_dbp'][a] = hist"
     ],
     "language": "python",
     "prompt_number": 30
    },
    {
     "cell_type": "heading",
     "metadata": {},
     "level": 2,
     "source": [
      "Graph width histogram (rmgallery only)"
     ]
    },
    {
     "cell_type": "code",
     "metadata": {},
     "outputs": [
      {
       "output_type": "display_data",
       "png": "[encoded data removed]",
       "text": [
        "<matplotlib.figure.Figure at 0x10a5bfa10>"
       ],
       "metadata": {}
      }
     ],
     "input": [
      "plot_hist(result_data['hist_rmgallery'], 2)"
     ],
     "language": "python",
     "prompt_number": 33
    },
    {
     "cell_type": "heading",
     "metadata": {},
     "level": 2,
     "source": [
      "Graph width histogram (rmgallery with DBpedia)"
     ]
    },
    {
     "cell_type": "code",
     "metadata": {},
     "outputs": [
      {
       "output_type": "display_data",
       "png": "[encoded data removed]",
       "text": [
        "<matplotlib.figure.Figure at 0x109b31650>"
       ],
       "metadata": {}
      }
     ],
     "input": [
      "plot_hist(result_data['hist_dbp'])"
     ],
     "language": "python",
     "prompt_number": 29
    },
    {
     "cell_type": "heading",
     "metadata": {},
     "level": 2,
     "source": [
      "Graph with histogram (rmgallery with Wikidata)"
     ]
    },
    {
     "cell_type": "code",
     "metadata": {},
     "outputs": [
      {
       "output_type": "display_data",
       "png": "[encoded data removed]",
       "text": [
        "<matplotlib.figure.Figure at 0x10a386f90>"
       ],
       "metadata": {}
      }
     ],
     "input": [
      "plot_hist(result_data['hist_wikidata'])"
     ],
     "language": "python",
     "prompt_number": 77
    },
    {
     "cell_type": "heading",
     "metadata": {},
     "level": 1,
     "source": [
      "Save and restore all"
     ]
    },
    {
     "cell_type": "code",
     "metadata": {},
     "outputs": [],
     "input": [
      "# Save\n",
      "with open('result_data.json', 'w') as f:\n",
      "    import pprint\n",
      "    pp = pprint.PrettyPrinter(indent=2)\n",
      "    save = {}\n",
      "    for k, v in result_data.iteritems():\n",
      "        if isinstance(v, pd.DataFrame):\n",
      "            save[k] = v.to_dict()\n",
      "        else:\n",
      "            save[k] = v\n",
      "    json.dump(save, f, indent=4, separators=(',', ': '), sort_keys=True)"
     ],
     "language": "python",
     "prompt_number": 23
    },
    {
     "cell_type": "code",
     "metadata": {},
     "outputs": [],
     "input": [
      "# Restore\n",
      "with open('result_data.json', 'r') as f:\n",
      "    result_data = json.load(f)\n",
      "result_data['hist_rmgallery'] = pd.DataFrame(result_data['hist_rmgallery'])\n",
      "result_data['hist_wikidata'] = pd.DataFrame(result_data['hist_wikidata'])\n",
      "result_data['hist_dbp'] = pd.DataFrame(dbp_custom)"
     ],
     "language": "python"
    }
   ]
  }
 ],
 "cells": [],
 "metadata": {
  "celltoolbar": "Edit Metadata",
  "signature": "sha256:60cdc8e1d2f072124f5c76ebd2a26f6168c0c46cfe3b0294f0126403d7b6d594"
 },
 "nbformat": 3,
 "nbformat_minor": 0
}